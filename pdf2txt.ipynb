{
  "nbformat": 4,
  "nbformat_minor": 0,
  "metadata": {
    "colab": {
      "name": "pdf2txt.ipynb",
      "provenance": [],
      "collapsed_sections": [],
      "include_colab_link": true
    },
    "kernelspec": {
      "name": "python3",
      "display_name": "Python 3"
    },
    "language_info": {
      "name": "python"
    }
  },
  "cells": [
    {
      "cell_type": "markdown",
      "metadata": {
        "id": "view-in-github",
        "colab_type": "text"
      },
      "source": [
        "<a href=\"https://colab.research.google.com/github/kushalpunem/ProjectDFW/blob/main/pdf2txt.ipynb\" target=\"_parent\"><img src=\"https://colab.research.google.com/assets/colab-badge.svg\" alt=\"Open In Colab\"/></a>"
      ]
    },
    {
      "cell_type": "markdown",
      "source": [
        "# **PDF2TEXT**"
      ],
      "metadata": {
        "id": "L3jk-S3a-7Hk"
      }
    },
    {
      "cell_type": "markdown",
      "source": [
        "PDF2TEXT is a PYTHON based project in which you can gather information of any pdf file. In this you can check outline of a pdf, count number of pages present in pdf and also you can extract as well as download text of a pdf in .txt format."
      ],
      "metadata": {
        "id": "aE30K7DE_VdD"
      }
    },
    {
      "cell_type": "code",
      "source": [
        ""
      ],
      "metadata": {
        "id": "2HtoBPUxMmEP"
      },
      "execution_count": null,
      "outputs": []
    },
    {
      "cell_type": "markdown",
      "source": [
        "## **CODE**"
      ],
      "metadata": {
        "id": "pARFmfxHBaEq"
      }
    },
    {
      "cell_type": "markdown",
      "source": [
        "NOTE:- \n",
        "\n",
        "\n",
        "1. Make sure to import all the required python modules \n",
        "before executing the code. \n",
        "2. Always provide the correct path of your .pdf file.\n",
        "3. If you are running this code in colab you need to give your google drive access to colab and import your files from your google drive, for this you have to run this commands.\n",
        "        from google.colab import drive\n",
        "        drive.mount('/content/drive')\n",
        "4. After successfully downloading text.txt file of your pdf check that file in the same path you provided for your pdf.\n",
        "\n"
      ],
      "metadata": {
        "id": "-TDFMBolCpZO"
      }
    },
    {
      "cell_type": "code",
      "source": [
        "!pip install PyPDF2"
      ],
      "metadata": {
        "colab": {
          "base_uri": "https://localhost:8080/"
        },
        "id": "Eu99qb5ECPKf",
        "outputId": "3ba27967-5d1b-4f48-845e-a006b2f8969b"
      },
      "execution_count": null,
      "outputs": [
        {
          "output_type": "stream",
          "name": "stdout",
          "text": [
            "Collecting PyPDF2\n",
            "  Downloading PyPDF2-1.26.0.tar.gz (77 kB)\n",
            "\u001b[?25l\r\u001b[K     |████▎                           | 10 kB 15.7 MB/s eta 0:00:01\r\u001b[K     |████████▌                       | 20 kB 19.1 MB/s eta 0:00:01\r\u001b[K     |████████████▊                   | 30 kB 14.3 MB/s eta 0:00:01\r\u001b[K     |█████████████████               | 40 kB 9.8 MB/s eta 0:00:01\r\u001b[K     |█████████████████████▏          | 51 kB 5.5 MB/s eta 0:00:01\r\u001b[K     |█████████████████████████▍      | 61 kB 5.4 MB/s eta 0:00:01\r\u001b[K     |█████████████████████████████▋  | 71 kB 5.7 MB/s eta 0:00:01\r\u001b[K     |████████████████████████████████| 77 kB 3.1 MB/s \n",
            "\u001b[?25hBuilding wheels for collected packages: PyPDF2\n",
            "  Building wheel for PyPDF2 (setup.py) ... \u001b[?25l\u001b[?25hdone\n",
            "  Created wheel for PyPDF2: filename=PyPDF2-1.26.0-py3-none-any.whl size=61101 sha256=ceadc29a972b7b433fcf652ed54fcdcf8b3565b17a75baecbfe290a6f89d93f6\n",
            "  Stored in directory: /root/.cache/pip/wheels/80/1a/24/648467ade3a77ed20f35cfd2badd32134e96dd25ca811e64b3\n",
            "Successfully built PyPDF2\n",
            "Installing collected packages: PyPDF2\n",
            "Successfully installed PyPDF2-1.26.0\n"
          ]
        }
      ]
    },
    {
      "cell_type": "code",
      "source": [
        "# ****************************** Read and Extract Text from PDF ******************************************\n",
        "\n",
        "# This is the practice problem on how to read and extract text in pdf\n",
        "\"\"\" With the help of this module we will play with pdfs and much more \"\"\"\n",
        "\n",
        "\n",
        "# Importing Libraries\n",
        "import PyPDF2\n",
        "\n",
        "\n",
        "# Extracting Text from pdf\n",
        "def Text(PDF):\n",
        "    # printing number of pages in pdf file\n",
        "    print(PDF.numPages)\n",
        "    # creating a page object\n",
        "    for i in range(PDF.getNumPages()):\n",
        "        pageObj = PDF.getPage(i)\n",
        "        print(i+1)\n",
        "        # extracting text from page\n",
        "        print(pageObj.extractText())\n",
        "\n",
        "\n",
        "# This function is to download all the text from pdf to new .txt file\n",
        "def pdf2text(PDF):\n",
        "    str = \"\"\n",
        "    for i in range(PDF.getNumPages()):\n",
        "        str += PDF.getPage(i).extractText()\n",
        "\n",
        "    with open(\"text.txt\", \"w\", encoding='utf-8') as f:\n",
        "        f.write(str)\n",
        "\n",
        "\n",
        "if __name__ == '__main__':\n",
        "    # Function that we have available from our side\n",
        "    Dict_PDF = {'1': 'PDF Information',\n",
        "                '2': 'Total PDF Pages',\n",
        "                '3': 'PDF Outline',\n",
        "                '4': \"PDF Text Extration\",\n",
        "                '5': \"Download pdf to txt format\"\n",
        "                }\n",
        "\n",
        "\n",
        "    while True:\n",
        "        try:\n",
        "            pdf_file = input(\"Enter the path of PDF file: \")\n",
        "            pdf_File = open(pdf_file, 'rb')\n",
        "            PDF = PyPDF2.PdfFileReader(pdf_File)\n",
        "        except Exception as E:\n",
        "            print(\"\\nplease give the correct PDF path...!\")\n",
        "        else:\n",
        "            try:\n",
        "                for i, item in enumerate(Dict_PDF.values()):\n",
        "                    print(i + 1, item)\n",
        "                choice = input(\"\\nEnter the option number (Ex. 1, 2, 3...) : \")\n",
        "                if choice in Dict_PDF.keys():\n",
        "                    if choice == '1':         # the document information of this PDF file\n",
        "                        print(f\"\\nPDF information: {PDF.getDocumentInfo()}\")\n",
        "\n",
        "                    elif choice == '2':       # Calculates the number of pages in this PDF file.\n",
        "                        print(f\"\\nTotal Pages in PDF: {PDF.getNumPages()}\")\n",
        "                    elif choice == '3':        # Retrieves the document outline present in the document.\n",
        "                        print(f\"\\nThe Outlines in the PDF: {PDF.getOutlines()}\")\n",
        "                    elif choice == '4':       # Extratcting text from pdf\n",
        "                        print(\"\\n Text in the PDF: \")\n",
        "                        Text(PDF)\n",
        "                    elif choice == '5':       # Downloading new txt file \n",
        "                        print(\"\\n Downloading pdf to txt \")\n",
        "                        pdf2text(PDF)\n",
        "                        print(\"\\n Downloaded sucessfully\")\n",
        "                    else:\n",
        "                        print(\"\\nSomething went wrong...!\")\n",
        "                else:\n",
        "                    print(\"Command not in Dict_PDF...!\")\n",
        "            except Exception as E:\n",
        "                print(f\"\\nError Occur: {E}\")\n",
        "        finally:\n",
        "            pdf_File.close()\n",
        "            print(\" \\n** Thanks for your valuable time ** \\n\")\n",
        "        continue\n"
      ],
      "metadata": {
        "id": "VMpxSOIXBjA4",
        "colab": {
          "base_uri": "https://localhost:8080/",
          "height": 1000
        },
        "outputId": "4fd99879-5d4c-4568-f09a-589d8f8f8d30"
      },
      "execution_count": null,
      "outputs": [
        {
          "output_type": "stream",
          "name": "stdout",
          "text": [
            "Enter the path of PDF file: /content/4U.pdf\n",
            "1 PDF Information\n",
            "2 Total PDF Pages\n",
            "3 PDF Outline\n",
            "4 PDF Text Extration\n",
            "5 Download pdf to txt format\n",
            "\n",
            "Enter the option number (Ex. 1, 2, 3...) : 1\n",
            "\n",
            "PDF information: {'/Author': 'KUSHAL', '/Creator': 'Microsoft Word', '/CreationDate': \"D:20211219195532+00'00'\", '/ModDate': \"D:20211219195532+00'00'\"}\n",
            " \n",
            "** Thanks for your valuable time ** \n",
            "\n",
            "Enter the path of PDF file: /content/4U.pdf\n",
            "1 PDF Information\n",
            "2 Total PDF Pages\n",
            "3 PDF Outline\n",
            "4 PDF Text Extration\n",
            "5 Download pdf to txt format\n",
            "\n",
            "Enter the option number (Ex. 1, 2, 3...) : 2\n",
            "\n",
            "Total Pages in PDF: 1\n",
            " \n",
            "** Thanks for your valuable time ** \n",
            "\n",
            "Enter the path of PDF file: /content/4U.pdf\n",
            "1 PDF Information\n",
            "2 Total PDF Pages\n",
            "3 PDF Outline\n",
            "4 PDF Text Extration\n",
            "5 Download pdf to txt format\n",
            "\n",
            "Enter the option number (Ex. 1, 2, 3...) : 3\n",
            "\n",
            "The Outlines in the PDF: []\n",
            " \n",
            "** Thanks for your valuable time ** \n",
            "\n",
            "Enter the path of PDF file: /content/4U.pdf\n",
            "1 PDF Information\n",
            "2 Total PDF Pages\n",
            "3 PDF Outline\n",
            "4 PDF Text Extration\n",
            "5 Download pdf to txt format\n",
            "\n",
            "Enter the option number (Ex. 1, 2, 3...) : 4\n",
            "\n",
            " Text in the PDF: \n",
            "1\n",
            "1\n",
            " \n",
            "4U\n",
            " \n",
            " \n",
            " \n",
            " \n",
            "TEST1\n",
            " \n",
            "1.\n",
            " \n",
            "Write python program to calculate your age in days \n",
            " \n",
            "2.\n",
            " \n",
            "What are the different application of python give example ?\n",
            " \n",
            "3.\n",
            " \n",
            "Write a python program that interchange first and last character of a string\n",
            " \n",
            "4.\n",
            " \n",
            "List different \n",
            "conditional statements in python with examples\n",
            " \n",
            "5.\n",
            " \n",
            "What will happen if we put semicolon(;) at the end of print statement ?\n",
            " \n",
            " \n",
            "TEST2\n",
            " \n",
            "1.\n",
            " \n",
            "Applications of Python\n",
            " \n",
            "2.\n",
            " \n",
            "Write a program for Linear Search\n",
            " \n",
            "3.\n",
            " \n",
            "Variable, length, keywords in functions in python \n",
            " \n",
            "4.\n",
            " \n",
            "Write a program to cre\n",
            "ate a class Shape having function area and few child \n",
            "classes to demonstrate Polymorphism\n",
            " \n",
            "\n",
            " \n",
            "** Thanks for your valuable time ** \n",
            "\n",
            "Enter the path of PDF file: /content/4U.pdf\n",
            "1 PDF Information\n",
            "2 Total PDF Pages\n",
            "3 PDF Outline\n",
            "4 PDF Text Extration\n",
            "5 Download pdf to txt format\n",
            "\n",
            "Enter the option number (Ex. 1, 2, 3...) : 5\n",
            "\n",
            " Downloading pdf to txt \n",
            "\n",
            " Downloaded sucessfully\n",
            " \n",
            "** Thanks for your valuable time ** \n",
            "\n",
            " \n",
            "** Thanks for your valuable time ** \n",
            "\n"
          ]
        },
        {
          "output_type": "error",
          "ename": "KeyboardInterrupt",
          "evalue": "ignored",
          "traceback": [
            "\u001b[0;31m---------------------------------------------------------------------------\u001b[0m",
            "\u001b[0;31mKeyboardInterrupt\u001b[0m                         Traceback (most recent call last)",
            "\u001b[0;32m/usr/local/lib/python3.7/dist-packages/ipykernel/kernelbase.py\u001b[0m in \u001b[0;36m_input_request\u001b[0;34m(self, prompt, ident, parent, password)\u001b[0m\n\u001b[1;32m    728\u001b[0m             \u001b[0;32mtry\u001b[0m\u001b[0;34m:\u001b[0m\u001b[0;34m\u001b[0m\u001b[0;34m\u001b[0m\u001b[0m\n\u001b[0;32m--> 729\u001b[0;31m                 \u001b[0mident\u001b[0m\u001b[0;34m,\u001b[0m \u001b[0mreply\u001b[0m \u001b[0;34m=\u001b[0m \u001b[0mself\u001b[0m\u001b[0;34m.\u001b[0m\u001b[0msession\u001b[0m\u001b[0;34m.\u001b[0m\u001b[0mrecv\u001b[0m\u001b[0;34m(\u001b[0m\u001b[0mself\u001b[0m\u001b[0;34m.\u001b[0m\u001b[0mstdin_socket\u001b[0m\u001b[0;34m,\u001b[0m \u001b[0;36m0\u001b[0m\u001b[0;34m)\u001b[0m\u001b[0;34m\u001b[0m\u001b[0;34m\u001b[0m\u001b[0m\n\u001b[0m\u001b[1;32m    730\u001b[0m             \u001b[0;32mexcept\u001b[0m \u001b[0mException\u001b[0m\u001b[0;34m:\u001b[0m\u001b[0;34m\u001b[0m\u001b[0;34m\u001b[0m\u001b[0m\n",
            "\u001b[0;32m/usr/local/lib/python3.7/dist-packages/jupyter_client/session.py\u001b[0m in \u001b[0;36mrecv\u001b[0;34m(self, socket, mode, content, copy)\u001b[0m\n\u001b[1;32m    802\u001b[0m         \u001b[0;32mtry\u001b[0m\u001b[0;34m:\u001b[0m\u001b[0;34m\u001b[0m\u001b[0;34m\u001b[0m\u001b[0m\n\u001b[0;32m--> 803\u001b[0;31m             \u001b[0mmsg_list\u001b[0m \u001b[0;34m=\u001b[0m \u001b[0msocket\u001b[0m\u001b[0;34m.\u001b[0m\u001b[0mrecv_multipart\u001b[0m\u001b[0;34m(\u001b[0m\u001b[0mmode\u001b[0m\u001b[0;34m,\u001b[0m \u001b[0mcopy\u001b[0m\u001b[0;34m=\u001b[0m\u001b[0mcopy\u001b[0m\u001b[0;34m)\u001b[0m\u001b[0;34m\u001b[0m\u001b[0;34m\u001b[0m\u001b[0m\n\u001b[0m\u001b[1;32m    804\u001b[0m         \u001b[0;32mexcept\u001b[0m \u001b[0mzmq\u001b[0m\u001b[0;34m.\u001b[0m\u001b[0mZMQError\u001b[0m \u001b[0;32mas\u001b[0m \u001b[0me\u001b[0m\u001b[0;34m:\u001b[0m\u001b[0;34m\u001b[0m\u001b[0;34m\u001b[0m\u001b[0m\n",
            "\u001b[0;32m/usr/local/lib/python3.7/dist-packages/zmq/sugar/socket.py\u001b[0m in \u001b[0;36mrecv_multipart\u001b[0;34m(self, flags, copy, track)\u001b[0m\n\u001b[1;32m    624\u001b[0m         \"\"\"\n\u001b[0;32m--> 625\u001b[0;31m         \u001b[0mparts\u001b[0m \u001b[0;34m=\u001b[0m \u001b[0;34m[\u001b[0m\u001b[0mself\u001b[0m\u001b[0;34m.\u001b[0m\u001b[0mrecv\u001b[0m\u001b[0;34m(\u001b[0m\u001b[0mflags\u001b[0m\u001b[0;34m,\u001b[0m \u001b[0mcopy\u001b[0m\u001b[0;34m=\u001b[0m\u001b[0mcopy\u001b[0m\u001b[0;34m,\u001b[0m \u001b[0mtrack\u001b[0m\u001b[0;34m=\u001b[0m\u001b[0mtrack\u001b[0m\u001b[0;34m)\u001b[0m\u001b[0;34m]\u001b[0m\u001b[0;34m\u001b[0m\u001b[0;34m\u001b[0m\u001b[0m\n\u001b[0m\u001b[1;32m    626\u001b[0m         \u001b[0;31m# have first part already, only loop while more to receive\u001b[0m\u001b[0;34m\u001b[0m\u001b[0;34m\u001b[0m\u001b[0;34m\u001b[0m\u001b[0m\n",
            "\u001b[0;32mzmq/backend/cython/socket.pyx\u001b[0m in \u001b[0;36mzmq.backend.cython.socket.Socket.recv\u001b[0;34m()\u001b[0m\n",
            "\u001b[0;32mzmq/backend/cython/socket.pyx\u001b[0m in \u001b[0;36mzmq.backend.cython.socket.Socket.recv\u001b[0;34m()\u001b[0m\n",
            "\u001b[0;32mzmq/backend/cython/socket.pyx\u001b[0m in \u001b[0;36mzmq.backend.cython.socket._recv_copy\u001b[0;34m()\u001b[0m\n",
            "\u001b[0;32m/usr/local/lib/python3.7/dist-packages/zmq/backend/cython/checkrc.pxd\u001b[0m in \u001b[0;36mzmq.backend.cython.checkrc._check_rc\u001b[0;34m()\u001b[0m\n",
            "\u001b[0;31mKeyboardInterrupt\u001b[0m: ",
            "\nDuring handling of the above exception, another exception occurred:\n",
            "\u001b[0;31mKeyboardInterrupt\u001b[0m                         Traceback (most recent call last)",
            "\u001b[0;32m<ipython-input-11-c4d208bf9e60>\u001b[0m in \u001b[0;36m<module>\u001b[0;34m()\u001b[0m\n\u001b[1;32m     43\u001b[0m     \u001b[0;32mwhile\u001b[0m \u001b[0;32mTrue\u001b[0m\u001b[0;34m:\u001b[0m\u001b[0;34m\u001b[0m\u001b[0;34m\u001b[0m\u001b[0m\n\u001b[1;32m     44\u001b[0m         \u001b[0;32mtry\u001b[0m\u001b[0;34m:\u001b[0m\u001b[0;34m\u001b[0m\u001b[0;34m\u001b[0m\u001b[0m\n\u001b[0;32m---> 45\u001b[0;31m             \u001b[0mpdf_file\u001b[0m \u001b[0;34m=\u001b[0m \u001b[0minput\u001b[0m\u001b[0;34m(\u001b[0m\u001b[0;34m\"Enter the path of PDF file: \"\u001b[0m\u001b[0;34m)\u001b[0m\u001b[0;34m\u001b[0m\u001b[0;34m\u001b[0m\u001b[0m\n\u001b[0m\u001b[1;32m     46\u001b[0m             \u001b[0mpdf_File\u001b[0m \u001b[0;34m=\u001b[0m \u001b[0mopen\u001b[0m\u001b[0;34m(\u001b[0m\u001b[0mpdf_file\u001b[0m\u001b[0;34m,\u001b[0m \u001b[0;34m'rb'\u001b[0m\u001b[0;34m)\u001b[0m\u001b[0;34m\u001b[0m\u001b[0;34m\u001b[0m\u001b[0m\n\u001b[1;32m     47\u001b[0m             \u001b[0mPDF\u001b[0m \u001b[0;34m=\u001b[0m \u001b[0mPyPDF2\u001b[0m\u001b[0;34m.\u001b[0m\u001b[0mPdfFileReader\u001b[0m\u001b[0;34m(\u001b[0m\u001b[0mpdf_File\u001b[0m\u001b[0;34m)\u001b[0m\u001b[0;34m\u001b[0m\u001b[0;34m\u001b[0m\u001b[0m\n",
            "\u001b[0;32m/usr/local/lib/python3.7/dist-packages/ipykernel/kernelbase.py\u001b[0m in \u001b[0;36mraw_input\u001b[0;34m(self, prompt)\u001b[0m\n\u001b[1;32m    702\u001b[0m             \u001b[0mself\u001b[0m\u001b[0;34m.\u001b[0m\u001b[0m_parent_ident\u001b[0m\u001b[0;34m,\u001b[0m\u001b[0;34m\u001b[0m\u001b[0;34m\u001b[0m\u001b[0m\n\u001b[1;32m    703\u001b[0m             \u001b[0mself\u001b[0m\u001b[0;34m.\u001b[0m\u001b[0m_parent_header\u001b[0m\u001b[0;34m,\u001b[0m\u001b[0;34m\u001b[0m\u001b[0;34m\u001b[0m\u001b[0m\n\u001b[0;32m--> 704\u001b[0;31m             \u001b[0mpassword\u001b[0m\u001b[0;34m=\u001b[0m\u001b[0;32mFalse\u001b[0m\u001b[0;34m,\u001b[0m\u001b[0;34m\u001b[0m\u001b[0;34m\u001b[0m\u001b[0m\n\u001b[0m\u001b[1;32m    705\u001b[0m         )\n\u001b[1;32m    706\u001b[0m \u001b[0;34m\u001b[0m\u001b[0m\n",
            "\u001b[0;32m/usr/local/lib/python3.7/dist-packages/ipykernel/kernelbase.py\u001b[0m in \u001b[0;36m_input_request\u001b[0;34m(self, prompt, ident, parent, password)\u001b[0m\n\u001b[1;32m    732\u001b[0m             \u001b[0;32mexcept\u001b[0m \u001b[0mKeyboardInterrupt\u001b[0m\u001b[0;34m:\u001b[0m\u001b[0;34m\u001b[0m\u001b[0;34m\u001b[0m\u001b[0m\n\u001b[1;32m    733\u001b[0m                 \u001b[0;31m# re-raise KeyboardInterrupt, to truncate traceback\u001b[0m\u001b[0;34m\u001b[0m\u001b[0;34m\u001b[0m\u001b[0;34m\u001b[0m\u001b[0m\n\u001b[0;32m--> 734\u001b[0;31m                 \u001b[0;32mraise\u001b[0m \u001b[0mKeyboardInterrupt\u001b[0m\u001b[0;34m\u001b[0m\u001b[0;34m\u001b[0m\u001b[0m\n\u001b[0m\u001b[1;32m    735\u001b[0m             \u001b[0;32melse\u001b[0m\u001b[0;34m:\u001b[0m\u001b[0;34m\u001b[0m\u001b[0;34m\u001b[0m\u001b[0m\n\u001b[1;32m    736\u001b[0m                 \u001b[0;32mbreak\u001b[0m\u001b[0;34m\u001b[0m\u001b[0;34m\u001b[0m\u001b[0m\n",
            "\u001b[0;31mKeyboardInterrupt\u001b[0m: "
          ]
        }
      ]
    },
    {
      "cell_type": "markdown",
      "source": [
        "To reduce complexity of the code and to perform required task we only used limit functions of this module, this project can be extend by providing more functionalities depending on users demand."
      ],
      "metadata": {
        "id": "0IWEIMpnKeIl"
      }
    }
  ]
}